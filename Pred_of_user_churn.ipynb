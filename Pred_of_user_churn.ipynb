{
 "cells": [
  {
   "cell_type": "markdown",
   "metadata": {
    "id": "TK7oX5qdEEYr"
   },
   "source": [
    "# Домашнее задание. Решение конкурса на kaggle.com\n",
    "\n",
    "Это домашнее задание посвящено полноценному решению задачи машинного обучения."
   ]
  },
  {
   "cell_type": "markdown",
   "metadata": {
    "id": "ninJ63mJEEYt"
   },
   "source": [
    "# Метрика\n",
    "\n",
    "Перед решением любой задачи важно понимать, как будет оцениваться ваше решение. В данном случае мы используем стандартную для задачи классификации метрику ROC-AUC. Ее можно вычислить, используя только предсказанные вероятности и истинные классы без конкретного порога классификации + она раотает даже если классы в данных сильно несбалансированны (примеров одного класса в десятки раз больше примеров длугого). Именно поэтому она очень удобна для соревнований.\n",
    "\n",
    "Посчитать ее легко:\n"
   ]
  },
  {
   "cell_type": "code",
   "execution_count": 46,
   "metadata": {
    "id": "SQIrka7yEEYu",
    "outputId": "ef45a9f2-7571-47b1-e697-b474b65cb0fb"
   },
   "outputs": [
    {
     "data": {
      "text/plain": [
       "0.8333333333333333"
      ]
     },
     "execution_count": 46,
     "metadata": {},
     "output_type": "execute_result"
    }
   ],
   "source": [
    "from sklearn.metrics import roc_auc_score\n",
    "\n",
    "y_true = [\n",
    "    0,\n",
    "    1,\n",
    "    1,\n",
    "    0,\n",
    "    1\n",
    "]\n",
    "\n",
    "y_predictions = [\n",
    "    0.1,\n",
    "    0.9,\n",
    "    0.4,\n",
    "    0.6,\n",
    "    0.61\n",
    "]\n",
    "\n",
    "roc_auc_score(y_true, y_predictions)"
   ]
  },
  {
   "cell_type": "markdown",
   "metadata": {
    "id": "IrDNNkNTEEYz"
   },
   "source": [
    "# Первая часть. Исследование"
   ]
  },
  {
   "cell_type": "code",
   "execution_count": 1,
   "metadata": {
    "id": "lzLqEeZKEEYz"
   },
   "outputs": [],
   "source": [
    "import pandas as pd\n",
    "import numpy as np\n",
    "import seaborn as sns\n",
    "from matplotlib import pyplot as plt"
   ]
  },
  {
   "cell_type": "markdown",
   "metadata": {
    "id": "LOlxdURSEEY3"
   },
   "source": [
    "## Загрузка данных (2 балла)\n",
    "\n",
    "1) Посмотрите на случайные строчки. \n",
    "\n",
    "2) Посмотрите, есть ли в датасете незаполненные значения (nan'ы) с помощью data.isna() или data.info() и, если нужно, замените их на что-то. Будет хорошо, если вы построите табличку с количеством nan в каждой колонке."
   ]
  },
  {
   "cell_type": "code",
   "execution_count": 48,
   "metadata": {
    "id": "XULA1f3ch6RL"
   },
   "outputs": [],
   "source": [
    "# !gdown 1ERwQ5odiK1Zvi1LtjpkzCMUswYsAX8_K  # train.csv\n",
    "# !gdown 1fGw_-RFwvn_LEdt91Jq-7A-wzG6mmH8r  # test.csv\n",
    "# !gdown 199Mt4OYZNaelT83U-HGDsEYs2YcUGQ6y  # submission.csv"
   ]
  },
  {
   "cell_type": "code",
   "execution_count": 49,
   "metadata": {
    "id": "pw-Brue9EEY3"
   },
   "outputs": [],
   "source": [
    "data = pd.read_csv('train.csv')\n",
    "test = pd.read_csv('test.csv')"
   ]
  },
  {
   "cell_type": "code",
   "execution_count": 50,
   "metadata": {
    "id": "KgnkkF5bEEY9"
   },
   "outputs": [],
   "source": [
    "# Для вашего удобства списки с именами разных колонок\n",
    "\n",
    "# Числовые признаки\n",
    "num_cols = [\n",
    "    'ClientPeriod',\n",
    "    'MonthlySpending',\n",
    "    'TotalSpent'\n",
    "]\n",
    "\n",
    "# Категориальные признаки\n",
    "cat_cols = [\n",
    "    'Sex',\n",
    "    'IsSeniorCitizen',\n",
    "    'HasPartner',\n",
    "    'HasChild',\n",
    "    'HasPhoneService',\n",
    "    'HasMultiplePhoneNumbers',\n",
    "    'HasInternetService',\n",
    "    'HasOnlineSecurityService',\n",
    "    'HasOnlineBackup',\n",
    "    'HasDeviceProtection',\n",
    "    'HasTechSupportAccess',\n",
    "    'HasOnlineTV',\n",
    "    'HasMovieSubscription',\n",
    "    'HasContractPhone',\n",
    "    'IsBillingPaperless',\n",
    "    'PaymentMethod'\n",
    "]\n",
    "\n",
    "feature_cols = num_cols + cat_cols\n",
    "target_col = 'Churn'"
   ]
  },
  {
   "cell_type": "code",
   "execution_count": 51,
   "metadata": {
    "id": "tHC6gWabEEZA",
    "scrolled": true
   },
   "outputs": [
    {
     "data": {
      "text/html": [
       "<div>\n",
       "<style scoped>\n",
       "    .dataframe tbody tr th:only-of-type {\n",
       "        vertical-align: middle;\n",
       "    }\n",
       "\n",
       "    .dataframe tbody tr th {\n",
       "        vertical-align: top;\n",
       "    }\n",
       "\n",
       "    .dataframe thead th {\n",
       "        text-align: right;\n",
       "    }\n",
       "</style>\n",
       "<table border=\"1\" class=\"dataframe\">\n",
       "  <thead>\n",
       "    <tr style=\"text-align: right;\">\n",
       "      <th></th>\n",
       "      <th>ClientPeriod</th>\n",
       "      <th>MonthlySpending</th>\n",
       "      <th>TotalSpent</th>\n",
       "      <th>Sex</th>\n",
       "      <th>IsSeniorCitizen</th>\n",
       "      <th>HasPartner</th>\n",
       "      <th>HasChild</th>\n",
       "      <th>HasPhoneService</th>\n",
       "      <th>HasMultiplePhoneNumbers</th>\n",
       "      <th>HasInternetService</th>\n",
       "      <th>HasOnlineSecurityService</th>\n",
       "      <th>HasOnlineBackup</th>\n",
       "      <th>HasDeviceProtection</th>\n",
       "      <th>HasTechSupportAccess</th>\n",
       "      <th>HasOnlineTV</th>\n",
       "      <th>HasMovieSubscription</th>\n",
       "      <th>HasContractPhone</th>\n",
       "      <th>IsBillingPaperless</th>\n",
       "      <th>PaymentMethod</th>\n",
       "      <th>Churn</th>\n",
       "    </tr>\n",
       "  </thead>\n",
       "  <tbody>\n",
       "    <tr>\n",
       "      <th>324</th>\n",
       "      <td>29</td>\n",
       "      <td>98.60</td>\n",
       "      <td>2933.2</td>\n",
       "      <td>Female</td>\n",
       "      <td>0</td>\n",
       "      <td>No</td>\n",
       "      <td>No</td>\n",
       "      <td>Yes</td>\n",
       "      <td>Yes</td>\n",
       "      <td>Fiber optic</td>\n",
       "      <td>No</td>\n",
       "      <td>No</td>\n",
       "      <td>Yes</td>\n",
       "      <td>No</td>\n",
       "      <td>Yes</td>\n",
       "      <td>Yes</td>\n",
       "      <td>Month-to-month</td>\n",
       "      <td>Yes</td>\n",
       "      <td>Credit card (automatic)</td>\n",
       "      <td>1</td>\n",
       "    </tr>\n",
       "    <tr>\n",
       "      <th>2706</th>\n",
       "      <td>62</td>\n",
       "      <td>104.30</td>\n",
       "      <td>6613.65</td>\n",
       "      <td>Female</td>\n",
       "      <td>0</td>\n",
       "      <td>Yes</td>\n",
       "      <td>No</td>\n",
       "      <td>Yes</td>\n",
       "      <td>No</td>\n",
       "      <td>Fiber optic</td>\n",
       "      <td>Yes</td>\n",
       "      <td>No</td>\n",
       "      <td>Yes</td>\n",
       "      <td>Yes</td>\n",
       "      <td>Yes</td>\n",
       "      <td>Yes</td>\n",
       "      <td>One year</td>\n",
       "      <td>Yes</td>\n",
       "      <td>Electronic check</td>\n",
       "      <td>0</td>\n",
       "    </tr>\n",
       "    <tr>\n",
       "      <th>1999</th>\n",
       "      <td>8</td>\n",
       "      <td>19.85</td>\n",
       "      <td>146.6</td>\n",
       "      <td>Female</td>\n",
       "      <td>0</td>\n",
       "      <td>Yes</td>\n",
       "      <td>Yes</td>\n",
       "      <td>Yes</td>\n",
       "      <td>No</td>\n",
       "      <td>No</td>\n",
       "      <td>No internet service</td>\n",
       "      <td>No internet service</td>\n",
       "      <td>No internet service</td>\n",
       "      <td>No internet service</td>\n",
       "      <td>No internet service</td>\n",
       "      <td>No internet service</td>\n",
       "      <td>Two year</td>\n",
       "      <td>Yes</td>\n",
       "      <td>Mailed check</td>\n",
       "      <td>0</td>\n",
       "    </tr>\n",
       "    <tr>\n",
       "      <th>1768</th>\n",
       "      <td>27</td>\n",
       "      <td>20.10</td>\n",
       "      <td>562.6</td>\n",
       "      <td>Male</td>\n",
       "      <td>0</td>\n",
       "      <td>No</td>\n",
       "      <td>No</td>\n",
       "      <td>Yes</td>\n",
       "      <td>No</td>\n",
       "      <td>No</td>\n",
       "      <td>No internet service</td>\n",
       "      <td>No internet service</td>\n",
       "      <td>No internet service</td>\n",
       "      <td>No internet service</td>\n",
       "      <td>No internet service</td>\n",
       "      <td>No internet service</td>\n",
       "      <td>One year</td>\n",
       "      <td>No</td>\n",
       "      <td>Bank transfer (automatic)</td>\n",
       "      <td>0</td>\n",
       "    </tr>\n",
       "    <tr>\n",
       "      <th>5122</th>\n",
       "      <td>68</td>\n",
       "      <td>75.80</td>\n",
       "      <td>5293.95</td>\n",
       "      <td>Male</td>\n",
       "      <td>0</td>\n",
       "      <td>Yes</td>\n",
       "      <td>Yes</td>\n",
       "      <td>Yes</td>\n",
       "      <td>Yes</td>\n",
       "      <td>DSL</td>\n",
       "      <td>No</td>\n",
       "      <td>Yes</td>\n",
       "      <td>Yes</td>\n",
       "      <td>Yes</td>\n",
       "      <td>No</td>\n",
       "      <td>Yes</td>\n",
       "      <td>One year</td>\n",
       "      <td>Yes</td>\n",
       "      <td>Bank transfer (automatic)</td>\n",
       "      <td>1</td>\n",
       "    </tr>\n",
       "    <tr>\n",
       "      <th>1945</th>\n",
       "      <td>28</td>\n",
       "      <td>29.75</td>\n",
       "      <td>790.7</td>\n",
       "      <td>Female</td>\n",
       "      <td>0</td>\n",
       "      <td>No</td>\n",
       "      <td>No</td>\n",
       "      <td>No</td>\n",
       "      <td>No phone service</td>\n",
       "      <td>DSL</td>\n",
       "      <td>No</td>\n",
       "      <td>No</td>\n",
       "      <td>Yes</td>\n",
       "      <td>No</td>\n",
       "      <td>No</td>\n",
       "      <td>No</td>\n",
       "      <td>Month-to-month</td>\n",
       "      <td>Yes</td>\n",
       "      <td>Mailed check</td>\n",
       "      <td>0</td>\n",
       "    </tr>\n",
       "    <tr>\n",
       "      <th>2063</th>\n",
       "      <td>42</td>\n",
       "      <td>84.30</td>\n",
       "      <td>3588.4</td>\n",
       "      <td>Female</td>\n",
       "      <td>0</td>\n",
       "      <td>Yes</td>\n",
       "      <td>No</td>\n",
       "      <td>Yes</td>\n",
       "      <td>Yes</td>\n",
       "      <td>Fiber optic</td>\n",
       "      <td>No</td>\n",
       "      <td>No</td>\n",
       "      <td>Yes</td>\n",
       "      <td>Yes</td>\n",
       "      <td>No</td>\n",
       "      <td>No</td>\n",
       "      <td>Month-to-month</td>\n",
       "      <td>Yes</td>\n",
       "      <td>Electronic check</td>\n",
       "      <td>1</td>\n",
       "    </tr>\n",
       "    <tr>\n",
       "      <th>3554</th>\n",
       "      <td>59</td>\n",
       "      <td>96.65</td>\n",
       "      <td>5580.8</td>\n",
       "      <td>Female</td>\n",
       "      <td>0</td>\n",
       "      <td>Yes</td>\n",
       "      <td>Yes</td>\n",
       "      <td>Yes</td>\n",
       "      <td>Yes</td>\n",
       "      <td>Fiber optic</td>\n",
       "      <td>No</td>\n",
       "      <td>Yes</td>\n",
       "      <td>No</td>\n",
       "      <td>Yes</td>\n",
       "      <td>No</td>\n",
       "      <td>Yes</td>\n",
       "      <td>Month-to-month</td>\n",
       "      <td>Yes</td>\n",
       "      <td>Bank transfer (automatic)</td>\n",
       "      <td>0</td>\n",
       "    </tr>\n",
       "    <tr>\n",
       "      <th>1076</th>\n",
       "      <td>47</td>\n",
       "      <td>100.05</td>\n",
       "      <td>4871.05</td>\n",
       "      <td>Male</td>\n",
       "      <td>1</td>\n",
       "      <td>Yes</td>\n",
       "      <td>No</td>\n",
       "      <td>Yes</td>\n",
       "      <td>Yes</td>\n",
       "      <td>Fiber optic</td>\n",
       "      <td>No</td>\n",
       "      <td>No</td>\n",
       "      <td>Yes</td>\n",
       "      <td>No</td>\n",
       "      <td>Yes</td>\n",
       "      <td>Yes</td>\n",
       "      <td>Month-to-month</td>\n",
       "      <td>Yes</td>\n",
       "      <td>Electronic check</td>\n",
       "      <td>1</td>\n",
       "    </tr>\n",
       "    <tr>\n",
       "      <th>4890</th>\n",
       "      <td>3</td>\n",
       "      <td>91.85</td>\n",
       "      <td>257.05</td>\n",
       "      <td>Male</td>\n",
       "      <td>0</td>\n",
       "      <td>No</td>\n",
       "      <td>Yes</td>\n",
       "      <td>Yes</td>\n",
       "      <td>Yes</td>\n",
       "      <td>Fiber optic</td>\n",
       "      <td>No</td>\n",
       "      <td>No</td>\n",
       "      <td>Yes</td>\n",
       "      <td>No</td>\n",
       "      <td>No</td>\n",
       "      <td>Yes</td>\n",
       "      <td>Month-to-month</td>\n",
       "      <td>No</td>\n",
       "      <td>Electronic check</td>\n",
       "      <td>1</td>\n",
       "    </tr>\n",
       "  </tbody>\n",
       "</table>\n",
       "</div>"
      ],
      "text/plain": [
       "      ClientPeriod  MonthlySpending TotalSpent     Sex  IsSeniorCitizen  \\\n",
       "324             29            98.60     2933.2  Female                0   \n",
       "2706            62           104.30    6613.65  Female                0   \n",
       "1999             8            19.85      146.6  Female                0   \n",
       "1768            27            20.10      562.6    Male                0   \n",
       "5122            68            75.80    5293.95    Male                0   \n",
       "1945            28            29.75      790.7  Female                0   \n",
       "2063            42            84.30     3588.4  Female                0   \n",
       "3554            59            96.65     5580.8  Female                0   \n",
       "1076            47           100.05    4871.05    Male                1   \n",
       "4890             3            91.85     257.05    Male                0   \n",
       "\n",
       "     HasPartner HasChild HasPhoneService HasMultiplePhoneNumbers  \\\n",
       "324          No       No             Yes                     Yes   \n",
       "2706        Yes       No             Yes                      No   \n",
       "1999        Yes      Yes             Yes                      No   \n",
       "1768         No       No             Yes                      No   \n",
       "5122        Yes      Yes             Yes                     Yes   \n",
       "1945         No       No              No        No phone service   \n",
       "2063        Yes       No             Yes                     Yes   \n",
       "3554        Yes      Yes             Yes                     Yes   \n",
       "1076        Yes       No             Yes                     Yes   \n",
       "4890         No      Yes             Yes                     Yes   \n",
       "\n",
       "     HasInternetService HasOnlineSecurityService      HasOnlineBackup  \\\n",
       "324         Fiber optic                       No                   No   \n",
       "2706        Fiber optic                      Yes                   No   \n",
       "1999                 No      No internet service  No internet service   \n",
       "1768                 No      No internet service  No internet service   \n",
       "5122                DSL                       No                  Yes   \n",
       "1945                DSL                       No                   No   \n",
       "2063        Fiber optic                       No                   No   \n",
       "3554        Fiber optic                       No                  Yes   \n",
       "1076        Fiber optic                       No                   No   \n",
       "4890        Fiber optic                       No                   No   \n",
       "\n",
       "      HasDeviceProtection HasTechSupportAccess          HasOnlineTV  \\\n",
       "324                   Yes                   No                  Yes   \n",
       "2706                  Yes                  Yes                  Yes   \n",
       "1999  No internet service  No internet service  No internet service   \n",
       "1768  No internet service  No internet service  No internet service   \n",
       "5122                  Yes                  Yes                   No   \n",
       "1945                  Yes                   No                   No   \n",
       "2063                  Yes                  Yes                   No   \n",
       "3554                   No                  Yes                   No   \n",
       "1076                  Yes                   No                  Yes   \n",
       "4890                  Yes                   No                   No   \n",
       "\n",
       "     HasMovieSubscription HasContractPhone IsBillingPaperless  \\\n",
       "324                   Yes   Month-to-month                Yes   \n",
       "2706                  Yes         One year                Yes   \n",
       "1999  No internet service         Two year                Yes   \n",
       "1768  No internet service         One year                 No   \n",
       "5122                  Yes         One year                Yes   \n",
       "1945                   No   Month-to-month                Yes   \n",
       "2063                   No   Month-to-month                Yes   \n",
       "3554                  Yes   Month-to-month                Yes   \n",
       "1076                  Yes   Month-to-month                Yes   \n",
       "4890                  Yes   Month-to-month                 No   \n",
       "\n",
       "                  PaymentMethod  Churn  \n",
       "324     Credit card (automatic)      1  \n",
       "2706           Electronic check      0  \n",
       "1999               Mailed check      0  \n",
       "1768  Bank transfer (automatic)      0  \n",
       "5122  Bank transfer (automatic)      1  \n",
       "1945               Mailed check      0  \n",
       "2063           Electronic check      1  \n",
       "3554  Bank transfer (automatic)      0  \n",
       "1076           Electronic check      1  \n",
       "4890           Electronic check      1  "
      ]
     },
     "execution_count": 51,
     "metadata": {},
     "output_type": "execute_result"
    }
   ],
   "source": [
    "data.sample(10)"
   ]
  },
  {
   "cell_type": "code",
   "execution_count": 52,
   "metadata": {},
   "outputs": [
    {
     "data": {
      "text/plain": [
       "ClientPeriod                0\n",
       "MonthlySpending             0\n",
       "TotalSpent                  0\n",
       "Sex                         0\n",
       "IsSeniorCitizen             0\n",
       "HasPartner                  0\n",
       "HasChild                    0\n",
       "HasPhoneService             0\n",
       "HasMultiplePhoneNumbers     0\n",
       "HasInternetService          0\n",
       "HasOnlineSecurityService    0\n",
       "HasOnlineBackup             0\n",
       "HasDeviceProtection         0\n",
       "HasTechSupportAccess        0\n",
       "HasOnlineTV                 0\n",
       "HasMovieSubscription        0\n",
       "HasContractPhone            0\n",
       "IsBillingPaperless          0\n",
       "PaymentMethod               0\n",
       "Churn                       0\n",
       "dtype: int64"
      ]
     },
     "execution_count": 52,
     "metadata": {},
     "output_type": "execute_result"
    }
   ],
   "source": [
    "data.isna().sum()"
   ]
  },
  {
   "cell_type": "code",
   "execution_count": 53,
   "metadata": {},
   "outputs": [],
   "source": [
    "data.replace(' ', np.nan, inplace = True)\n"
   ]
  },
  {
   "cell_type": "code",
   "execution_count": 54,
   "metadata": {
    "scrolled": true
   },
   "outputs": [
    {
     "data": {
      "text/plain": [
       "ClientPeriod                0\n",
       "MonthlySpending             0\n",
       "TotalSpent                  9\n",
       "Sex                         0\n",
       "IsSeniorCitizen             0\n",
       "HasPartner                  0\n",
       "HasChild                    0\n",
       "HasPhoneService             0\n",
       "HasMultiplePhoneNumbers     0\n",
       "HasInternetService          0\n",
       "HasOnlineSecurityService    0\n",
       "HasOnlineBackup             0\n",
       "HasDeviceProtection         0\n",
       "HasTechSupportAccess        0\n",
       "HasOnlineTV                 0\n",
       "HasMovieSubscription        0\n",
       "HasContractPhone            0\n",
       "IsBillingPaperless          0\n",
       "PaymentMethod               0\n",
       "Churn                       0\n",
       "dtype: int64"
      ]
     },
     "execution_count": 54,
     "metadata": {},
     "output_type": "execute_result"
    }
   ],
   "source": [
    "data.isna().sum()"
   ]
  },
  {
   "cell_type": "code",
   "execution_count": 55,
   "metadata": {},
   "outputs": [],
   "source": [
    "\n",
    "data['TotalSpent'] = data['TotalSpent'].fillna(data['TotalSpent'].mode())\n",
    "data['TotalSpent'] = data['TotalSpent'].astype('float64')"
   ]
  },
  {
   "cell_type": "code",
   "execution_count": 56,
   "metadata": {
    "scrolled": false
   },
   "outputs": [
    {
     "data": {
      "text/plain": [
       "ClientPeriod                  int64\n",
       "MonthlySpending             float64\n",
       "TotalSpent                  float64\n",
       "Sex                          object\n",
       "IsSeniorCitizen               int64\n",
       "HasPartner                   object\n",
       "HasChild                     object\n",
       "HasPhoneService              object\n",
       "HasMultiplePhoneNumbers      object\n",
       "HasInternetService           object\n",
       "HasOnlineSecurityService     object\n",
       "HasOnlineBackup              object\n",
       "HasDeviceProtection          object\n",
       "HasTechSupportAccess         object\n",
       "HasOnlineTV                  object\n",
       "HasMovieSubscription         object\n",
       "HasContractPhone             object\n",
       "IsBillingPaperless           object\n",
       "PaymentMethod                object\n",
       "Churn                         int64\n",
       "dtype: object"
      ]
     },
     "execution_count": 56,
     "metadata": {},
     "output_type": "execute_result"
    }
   ],
   "source": [
    "data.dtypes"
   ]
  },
  {
   "cell_type": "markdown",
   "metadata": {
    "id": "dK370bPCEEZD"
   },
   "source": [
    "## Анализ данных (3 балла)\n",
    "\n",
    "1) Для численных призанков постройте гистограмму (*plt.hist(...)*) или boxplot (*plt.boxplot(...)*). Для категориальных посчитайте количество каждого значения для каждого признака. Для каждой колонки надо сделать *data.value_counts()* и построить bar диаграммы *plt.bar(...)* или круговые диаграммы *plt.pie(...)* (хорошо, елси вы сможете это сделать на одном гарфике с помощью *plt.subplots(...)*). \n",
    "\n",
    "2) Посмотрите на распределение целевой переменной и скажите, являются ли классы несбалансированными.\n",
    "\n",
    "3) (Если будет желание) Поиграйте с разными библиотеками для визуализации - *sns*, *pandas_visual_analysis*, etc.\n",
    "\n",
    "Второй пункт очень важен, потому что существуют задачи классификации с несбалансированными классами. Например, это может значить, что в датасете намного больше примеров 0 класса. В таких случаях нужно 1) не использовать accuracy как метрику 2) использовать методы борьбы с imbalanced dataset (обычно если датасет сильно несбалансирован, т.е. класса 1 в 20 раз меньше класса 0)."
   ]
  },
  {
   "cell_type": "code",
   "execution_count": 57,
   "metadata": {
    "id": "NZkbgFJZEEZE",
    "scrolled": true
   },
   "outputs": [
    {
     "data": {
      "text/plain": [
       "<AxesSubplot: xlabel='MonthlySpending', ylabel='Count'>"
      ]
     },
     "execution_count": 57,
     "metadata": {},
     "output_type": "execute_result"
    },
    {
     "data": {
      "image/png": "[encoded data removed]",
      "text/plain": [
       "<Figure size 1080x576 with 3 Axes>"
      ]
     },
     "metadata": {
      "needs_background": "light"
     },
     "output_type": "display_data"
    }
   ],
   "source": [
    "fig, axs = plt.subplots(ncols=3, figsize = (15,8))\n",
    "sns.histplot(data=data, x = 'TotalSpent', ax=axs[0])\n",
    "sns.histplot(data=data, x = 'ClientPeriod', ax=axs[1])\n",
    "sns.histplot(data=data, x = 'MonthlySpending', ax=axs[2])"
   ]
  },
  {
   "cell_type": "code",
   "execution_count": 58,
   "metadata": {
    "scrolled": true
   },
   "outputs": [
    {
     "data": {
      "image/png": "[encoded data removed]",
      "text/plain": [
       "<Figure size 1440x1008 with 16 Axes>"
      ]
     },
     "metadata": {},
     "output_type": "display_data"
    }
   ],
   "source": [
    "fig, axs = plt.subplots(4, 4, figsize = (20,14))\n",
    "n = 0\n",
    "m = 0\n",
    "for col in cat_cols:\n",
    "    axs[n,m].set_title(col)\n",
    "    axs[n,m].pie(data[col].value_counts(), labels = data[col].value_counts().index, autopct='%1.1f%%')\n",
    "    n += 1\n",
    "    if n == 4:\n",
    "        n = 0\n",
    "        m += 1"
   ]
  },
  {
   "cell_type": "code",
   "execution_count": 59,
   "metadata": {
    "scrolled": true
   },
   "outputs": [
    {
     "data": {
      "text/plain": [
       "([<matplotlib.patches.Wedge at 0x176e08de130>,\n",
       "  <matplotlib.patches.Wedge at 0x176e08dea00>],\n",
       " [Text(-0.7478930722742168, 0.8066324766857788, '0'),\n",
       "  Text(0.7478930722742166, -0.8066324766857789, '1')],\n",
       " [Text(-0.4079416757859364, 0.4399813509195156, '73.8%'),\n",
       "  Text(0.4079416757859363, -0.4399813509195157, '26.2%')])"
      ]
     },
     "execution_count": 59,
     "metadata": {},
     "output_type": "execute_result"
    },
    {
     "data": {
      "image/png": "[encoded data removed]",
      "text/plain": [
       "<Figure size 720x576 with 1 Axes>"
      ]
     },
     "metadata": {},
     "output_type": "display_data"
    }
   ],
   "source": [
    "plt.figure(figsize = (10, 8))\n",
    "plt.title('Target')\n",
    "plt.pie(data['Churn'].value_counts(), labels = data['Churn'].value_counts().index, autopct='%1.1f%%')"
   ]
  },
  {
   "cell_type": "markdown",
   "metadata": {},
   "source": [
    "Из приведённых выше диаграмм видно, что распределение целевой переменной несбалансированно, поэтому применение такой метрики как AUC-ROC вполне обоснованно."
   ]
  },
  {
   "cell_type": "markdown",
   "metadata": {
    "id": "zg60u3QDEEZH"
   },
   "source": [
    "(Дополнительно) Если вы нашли какие-то ошибки в данных или выбросы, то можете их убрать. Тут можно поэксперементировать с обработкой данных как угодно, но не за баллы."
   ]
  },
  {
   "cell_type": "code",
   "execution_count": 60,
   "metadata": {
    "id": "fwfksF1gEEZI"
   },
   "outputs": [],
   "source": [
    "# YOUR CODE"
   ]
  },
  {
   "cell_type": "markdown",
   "metadata": {
    "id": "DviiJd8REEZK"
   },
   "source": [
    "## Применение линейных моделей (3 балла)\n",
    "\n",
    "1) Обработайте данные для того, чтобы к ним можно было применить LogisticRegression. Т.е. отнормируйте числовые признаки, а категориальные закодируйте с помощью one-hot-encoding'а. \n",
    "\n",
    "2) С помощью кроссвалидации или разделения на train/valid выборку протестируйте разные значения гиперпараметра C и выберите лучший (можно тестировать С=100, 10, 1, 0.1, 0.01, 0.001) по метрике ROC-AUC. \n",
    "\n",
    "Если вы разделяете на train/valid, то используйте LogisticRegressionCV. Он сам при вызове .fit() подберет параметр С. (не забудьте передать scroing='roc_auc', чтобы при кроссвалидации сравнивались значения этой метрики, и refit=True, чтобы при потом модель обучилась на всем датасете с лучшим параметром C). \n",
    "\n",
    "\n",
    "(более сложный вариант) Если вы будете использовать кроссвалидацию, то преобразования данных и LogisticRegression нужно соединить в один Pipeline с помощью make_pipeline, как это делалось во втором семинаре. Потом pipeline надо передать в GridSearchCV. Для one-hot-encoding'a можно испльзовать комбинацию LabelEncoder + OneHotEncoder (сначала превращаем строчки в числа, а потом числа првращаем в one-hot вектора.)"
   ]
  },
  {
   "cell_type": "code",
   "execution_count": 61,
   "metadata": {
    "id": "xHCLDmwqEEZL"
   },
   "outputs": [],
   "source": [
    "from sklearn.linear_model import LogisticRegression, LogisticRegressionCV\n",
    "from sklearn.model_selection import train_test_split, GridSearchCV\n",
    "from sklearn.compose import ColumnTransformer\n",
    "from sklearn.preprocessing import StandardScaler, RobustScaler, LabelEncoder, OneHotEncoder\n",
    "from sklearn.pipeline import make_pipeline\n",
    "from sklearn.pipeline import Pipeline\n",
    "from sklearn.metrics import roc_auc_score\n"
   ]
  },
  {
   "cell_type": "code",
   "execution_count": 62,
   "metadata": {
    "id": "P2Yv3uYtEEZO"
   },
   "outputs": [],
   "source": [
    "y = data['Churn']\n",
    "X = data.drop('Churn', axis = 1)"
   ]
  },
  {
   "cell_type": "code",
   "execution_count": 63,
   "metadata": {},
   "outputs": [],
   "source": [
    "X_train, X_test, y_train, y_test = train_test_split(X, y, test_size=0.2, random_state=777)"
   ]
  },
  {
   "cell_type": "code",
   "execution_count": 64,
   "metadata": {},
   "outputs": [
    {
     "name": "stderr",
     "output_type": "stream",
     "text": [
      "C:\\Users\\rokot\\anaconda3\\lib\\site-packages\\sklearn\\model_selection\\_validation.py:372: FitFailedWarning: \n",
      "100 fits failed out of a total of 100.\n",
      "The score on these train-test partitions for these parameters will be set to nan.\n",
      "If these failures are not expected, you can try to debug them by setting error_score='raise'.\n",
      "\n",
      "Below are more details about the failures:\n",
      "--------------------------------------------------------------------------------\n",
      "100 fits failed with the following error:\n",
      "Traceback (most recent call last):\n",
      "  File \"C:\\Users\\rokot\\anaconda3\\lib\\site-packages\\sklearn\\model_selection\\_validation.py\", line 680, in _fit_and_score\n",
      "    estimator.fit(X_train, y_train, **fit_params)\n",
      "  File \"C:\\Users\\rokot\\anaconda3\\lib\\site-packages\\sklearn\\pipeline.py\", line 394, in fit\n",
      "    self._final_estimator.fit(Xt, y, **fit_params_last_step)\n",
      "  File \"C:\\Users\\rokot\\anaconda3\\lib\\site-packages\\sklearn\\linear_model\\_logistic.py\", line 1508, in fit\n",
      "    X, y = self._validate_data(\n",
      "  File \"C:\\Users\\rokot\\anaconda3\\lib\\site-packages\\sklearn\\base.py\", line 581, in _validate_data\n",
      "    X, y = check_X_y(X, y, **check_params)\n",
      "  File \"C:\\Users\\rokot\\anaconda3\\lib\\site-packages\\sklearn\\utils\\validation.py\", line 964, in check_X_y\n",
      "    X = check_array(\n",
      "  File \"C:\\Users\\rokot\\anaconda3\\lib\\site-packages\\sklearn\\utils\\validation.py\", line 800, in check_array\n",
      "    _assert_all_finite(array, allow_nan=force_all_finite == \"allow-nan\")\n",
      "  File \"C:\\Users\\rokot\\anaconda3\\lib\\site-packages\\sklearn\\utils\\validation.py\", line 114, in _assert_all_finite\n",
      "    raise ValueError(\n",
      "ValueError: Input contains NaN, infinity or a value too large for dtype('float64').\n",
      "\n",
      "  warnings.warn(some_fits_failed_message, FitFailedWarning)\n",
      "C:\\Users\\rokot\\anaconda3\\lib\\site-packages\\sklearn\\model_selection\\_search.py:969: UserWarning: One or more of the test scores are non-finite: [nan nan nan nan nan nan nan nan nan nan nan nan nan nan nan nan nan nan\n",
      " nan nan]\n",
      "  warnings.warn(\n"
     ]
    },
    {
     "ename": "ValueError",
     "evalue": "Input contains NaN, infinity or a value too large for dtype('float64').",
     "output_type": "error",
     "traceback": [
      "\u001b[1;31m---------------------------------------------------------------------------\u001b[0m",
      "\u001b[1;31mValueError\u001b[0m                                Traceback (most recent call last)",
      "Input \u001b[1;32mIn [64]\u001b[0m, in \u001b[0;36m<cell line: 17>\u001b[1;34m()\u001b[0m\n\u001b[0;32m     11\u001b[0m param_grid \u001b[38;5;241m=\u001b[39m {\n\u001b[0;32m     12\u001b[0m     \u001b[38;5;124m\"\u001b[39m\u001b[38;5;124mlogistic__C\u001b[39m\u001b[38;5;124m\"\u001b[39m: np\u001b[38;5;241m.\u001b[39mlogspace(\u001b[38;5;241m-\u001b[39m\u001b[38;5;241m4\u001b[39m, \u001b[38;5;241m4\u001b[39m, \u001b[38;5;241m20\u001b[39m)\n\u001b[0;32m     13\u001b[0m }\n\u001b[0;32m     15\u001b[0m searcher \u001b[38;5;241m=\u001b[39m GridSearchCV(pipeline, param_grid,\n\u001b[0;32m     16\u001b[0m                         scoring\u001b[38;5;241m=\u001b[39m\u001b[38;5;124m\"\u001b[39m\u001b[38;5;124mroc_auc\u001b[39m\u001b[38;5;124m\"\u001b[39m, cv\u001b[38;5;241m=\u001b[39m\u001b[38;5;241m5\u001b[39m, n_jobs\u001b[38;5;241m=\u001b[39m\u001b[38;5;241m2\u001b[39m)\n\u001b[1;32m---> 17\u001b[0m \u001b[43msearcher\u001b[49m\u001b[38;5;241;43m.\u001b[39;49m\u001b[43mfit\u001b[49m\u001b[43m(\u001b[49m\u001b[43mX_train\u001b[49m\u001b[43m,\u001b[49m\u001b[43m \u001b[49m\u001b[43my_train\u001b[49m\u001b[43m)\u001b[49m\n\u001b[0;32m     19\u001b[0m best_alpha \u001b[38;5;241m=\u001b[39m searcher\u001b[38;5;241m.\u001b[39mbest_params_[\u001b[38;5;124m'\u001b[39m\u001b[38;5;124mlogistic__C\u001b[39m\u001b[38;5;124m'\u001b[39m]\n",
      "File \u001b[1;32m~\\anaconda3\\lib\\site-packages\\sklearn\\model_selection\\_search.py:926\u001b[0m, in \u001b[0;36mBaseSearchCV.fit\u001b[1;34m(self, X, y, groups, **fit_params)\u001b[0m\n\u001b[0;32m    924\u001b[0m refit_start_time \u001b[38;5;241m=\u001b[39m time\u001b[38;5;241m.\u001b[39mtime()\n\u001b[0;32m    925\u001b[0m \u001b[38;5;28;01mif\u001b[39;00m y \u001b[38;5;129;01mis\u001b[39;00m \u001b[38;5;129;01mnot\u001b[39;00m \u001b[38;5;28;01mNone\u001b[39;00m:\n\u001b[1;32m--> 926\u001b[0m     \u001b[38;5;28mself\u001b[39m\u001b[38;5;241m.\u001b[39mbest_estimator_\u001b[38;5;241m.\u001b[39mfit(X, y, \u001b[38;5;241m*\u001b[39m\u001b[38;5;241m*\u001b[39mfit_params)\n\u001b[0;32m    927\u001b[0m \u001b[38;5;28;01melse\u001b[39;00m:\n\u001b[0;32m    928\u001b[0m     \u001b[38;5;28mself\u001b[39m\u001b[38;5;241m.\u001b[39mbest_estimator_\u001b[38;5;241m.\u001b[39mfit(X, \u001b[38;5;241m*\u001b[39m\u001b[38;5;241m*\u001b[39mfit_params)\n",
      "File \u001b[1;32m~\\anaconda3\\lib\\site-packages\\sklearn\\pipeline.py:394\u001b[0m, in \u001b[0;36mPipeline.fit\u001b[1;34m(self, X, y, **fit_params)\u001b[0m\n\u001b[0;32m    392\u001b[0m     \u001b[38;5;28;01mif\u001b[39;00m \u001b[38;5;28mself\u001b[39m\u001b[38;5;241m.\u001b[39m_final_estimator \u001b[38;5;241m!=\u001b[39m \u001b[38;5;124m\"\u001b[39m\u001b[38;5;124mpassthrough\u001b[39m\u001b[38;5;124m\"\u001b[39m:\n\u001b[0;32m    393\u001b[0m         fit_params_last_step \u001b[38;5;241m=\u001b[39m fit_params_steps[\u001b[38;5;28mself\u001b[39m\u001b[38;5;241m.\u001b[39msteps[\u001b[38;5;241m-\u001b[39m\u001b[38;5;241m1\u001b[39m][\u001b[38;5;241m0\u001b[39m]]\n\u001b[1;32m--> 394\u001b[0m         \u001b[38;5;28mself\u001b[39m\u001b[38;5;241m.\u001b[39m_final_estimator\u001b[38;5;241m.\u001b[39mfit(Xt, y, \u001b[38;5;241m*\u001b[39m\u001b[38;5;241m*\u001b[39mfit_params_last_step)\n\u001b[0;32m    396\u001b[0m \u001b[38;5;28;01mreturn\u001b[39;00m \u001b[38;5;28mself\u001b[39m\n",
      "File \u001b[1;32m~\\anaconda3\\lib\\site-packages\\sklearn\\linear_model\\_logistic.py:1508\u001b[0m, in \u001b[0;36mLogisticRegression.fit\u001b[1;34m(self, X, y, sample_weight)\u001b[0m\n\u001b[0;32m   1505\u001b[0m \u001b[38;5;28;01melse\u001b[39;00m:\n\u001b[0;32m   1506\u001b[0m     _dtype \u001b[38;5;241m=\u001b[39m [np\u001b[38;5;241m.\u001b[39mfloat64, np\u001b[38;5;241m.\u001b[39mfloat32]\n\u001b[1;32m-> 1508\u001b[0m X, y \u001b[38;5;241m=\u001b[39m \u001b[38;5;28;43mself\u001b[39;49m\u001b[38;5;241;43m.\u001b[39;49m\u001b[43m_validate_data\u001b[49m\u001b[43m(\u001b[49m\n\u001b[0;32m   1509\u001b[0m \u001b[43m    \u001b[49m\u001b[43mX\u001b[49m\u001b[43m,\u001b[49m\n\u001b[0;32m   1510\u001b[0m \u001b[43m    \u001b[49m\u001b[43my\u001b[49m\u001b[43m,\u001b[49m\n\u001b[0;32m   1511\u001b[0m \u001b[43m    \u001b[49m\u001b[43maccept_sparse\u001b[49m\u001b[38;5;241;43m=\u001b[39;49m\u001b[38;5;124;43m\"\u001b[39;49m\u001b[38;5;124;43mcsr\u001b[39;49m\u001b[38;5;124;43m\"\u001b[39;49m\u001b[43m,\u001b[49m\n\u001b[0;32m   1512\u001b[0m \u001b[43m    \u001b[49m\u001b[43mdtype\u001b[49m\u001b[38;5;241;43m=\u001b[39;49m\u001b[43m_dtype\u001b[49m\u001b[43m,\u001b[49m\n\u001b[0;32m   1513\u001b[0m \u001b[43m    \u001b[49m\u001b[43morder\u001b[49m\u001b[38;5;241;43m=\u001b[39;49m\u001b[38;5;124;43m\"\u001b[39;49m\u001b[38;5;124;43mC\u001b[39;49m\u001b[38;5;124;43m\"\u001b[39;49m\u001b[43m,\u001b[49m\n\u001b[0;32m   1514\u001b[0m \u001b[43m    \u001b[49m\u001b[43maccept_large_sparse\u001b[49m\u001b[38;5;241;43m=\u001b[39;49m\u001b[43msolver\u001b[49m\u001b[43m \u001b[49m\u001b[38;5;129;43;01mnot\u001b[39;49;00m\u001b[43m \u001b[49m\u001b[38;5;129;43;01min\u001b[39;49;00m\u001b[43m \u001b[49m\u001b[43m[\u001b[49m\u001b[38;5;124;43m\"\u001b[39;49m\u001b[38;5;124;43mliblinear\u001b[39;49m\u001b[38;5;124;43m\"\u001b[39;49m\u001b[43m,\u001b[49m\u001b[43m \u001b[49m\u001b[38;5;124;43m\"\u001b[39;49m\u001b[38;5;124;43msag\u001b[39;49m\u001b[38;5;124;43m\"\u001b[39;49m\u001b[43m,\u001b[49m\u001b[43m \u001b[49m\u001b[38;5;124;43m\"\u001b[39;49m\u001b[38;5;124;43msaga\u001b[39;49m\u001b[38;5;124;43m\"\u001b[39;49m\u001b[43m]\u001b[49m\u001b[43m,\u001b[49m\n\u001b[0;32m   1515\u001b[0m \u001b[43m\u001b[49m\u001b[43m)\u001b[49m\n\u001b[0;32m   1516\u001b[0m check_classification_targets(y)\n\u001b[0;32m   1517\u001b[0m \u001b[38;5;28mself\u001b[39m\u001b[38;5;241m.\u001b[39mclasses_ \u001b[38;5;241m=\u001b[39m np\u001b[38;5;241m.\u001b[39munique(y)\n",
      "File \u001b[1;32m~\\anaconda3\\lib\\site-packages\\sklearn\\base.py:581\u001b[0m, in \u001b[0;36mBaseEstimator._validate_data\u001b[1;34m(self, X, y, reset, validate_separately, **check_params)\u001b[0m\n\u001b[0;32m    579\u001b[0m         y \u001b[38;5;241m=\u001b[39m check_array(y, \u001b[38;5;241m*\u001b[39m\u001b[38;5;241m*\u001b[39mcheck_y_params)\n\u001b[0;32m    580\u001b[0m     \u001b[38;5;28;01melse\u001b[39;00m:\n\u001b[1;32m--> 581\u001b[0m         X, y \u001b[38;5;241m=\u001b[39m check_X_y(X, y, \u001b[38;5;241m*\u001b[39m\u001b[38;5;241m*\u001b[39mcheck_params)\n\u001b[0;32m    582\u001b[0m     out \u001b[38;5;241m=\u001b[39m X, y\n\u001b[0;32m    584\u001b[0m \u001b[38;5;28;01mif\u001b[39;00m \u001b[38;5;129;01mnot\u001b[39;00m no_val_X \u001b[38;5;129;01mand\u001b[39;00m check_params\u001b[38;5;241m.\u001b[39mget(\u001b[38;5;124m\"\u001b[39m\u001b[38;5;124mensure_2d\u001b[39m\u001b[38;5;124m\"\u001b[39m, \u001b[38;5;28;01mTrue\u001b[39;00m):\n",
      "File \u001b[1;32m~\\anaconda3\\lib\\site-packages\\sklearn\\utils\\validation.py:964\u001b[0m, in \u001b[0;36mcheck_X_y\u001b[1;34m(X, y, accept_sparse, accept_large_sparse, dtype, order, copy, force_all_finite, ensure_2d, allow_nd, multi_output, ensure_min_samples, ensure_min_features, y_numeric, estimator)\u001b[0m\n\u001b[0;32m    961\u001b[0m \u001b[38;5;28;01mif\u001b[39;00m y \u001b[38;5;129;01mis\u001b[39;00m \u001b[38;5;28;01mNone\u001b[39;00m:\n\u001b[0;32m    962\u001b[0m     \u001b[38;5;28;01mraise\u001b[39;00m \u001b[38;5;167;01mValueError\u001b[39;00m(\u001b[38;5;124m\"\u001b[39m\u001b[38;5;124my cannot be None\u001b[39m\u001b[38;5;124m\"\u001b[39m)\n\u001b[1;32m--> 964\u001b[0m X \u001b[38;5;241m=\u001b[39m \u001b[43mcheck_array\u001b[49m\u001b[43m(\u001b[49m\n\u001b[0;32m    965\u001b[0m \u001b[43m    \u001b[49m\u001b[43mX\u001b[49m\u001b[43m,\u001b[49m\n\u001b[0;32m    966\u001b[0m \u001b[43m    \u001b[49m\u001b[43maccept_sparse\u001b[49m\u001b[38;5;241;43m=\u001b[39;49m\u001b[43maccept_sparse\u001b[49m\u001b[43m,\u001b[49m\n\u001b[0;32m    967\u001b[0m \u001b[43m    \u001b[49m\u001b[43maccept_large_sparse\u001b[49m\u001b[38;5;241;43m=\u001b[39;49m\u001b[43maccept_large_sparse\u001b[49m\u001b[43m,\u001b[49m\n\u001b[0;32m    968\u001b[0m \u001b[43m    \u001b[49m\u001b[43mdtype\u001b[49m\u001b[38;5;241;43m=\u001b[39;49m\u001b[43mdtype\u001b[49m\u001b[43m,\u001b[49m\n\u001b[0;32m    969\u001b[0m \u001b[43m    \u001b[49m\u001b[43morder\u001b[49m\u001b[38;5;241;43m=\u001b[39;49m\u001b[43morder\u001b[49m\u001b[43m,\u001b[49m\n\u001b[0;32m    970\u001b[0m \u001b[43m    \u001b[49m\u001b[43mcopy\u001b[49m\u001b[38;5;241;43m=\u001b[39;49m\u001b[43mcopy\u001b[49m\u001b[43m,\u001b[49m\n\u001b[0;32m    971\u001b[0m \u001b[43m    \u001b[49m\u001b[43mforce_all_finite\u001b[49m\u001b[38;5;241;43m=\u001b[39;49m\u001b[43mforce_all_finite\u001b[49m\u001b[43m,\u001b[49m\n\u001b[0;32m    972\u001b[0m \u001b[43m    \u001b[49m\u001b[43mensure_2d\u001b[49m\u001b[38;5;241;43m=\u001b[39;49m\u001b[43mensure_2d\u001b[49m\u001b[43m,\u001b[49m\n\u001b[0;32m    973\u001b[0m \u001b[43m    \u001b[49m\u001b[43mallow_nd\u001b[49m\u001b[38;5;241;43m=\u001b[39;49m\u001b[43mallow_nd\u001b[49m\u001b[43m,\u001b[49m\n\u001b[0;32m    974\u001b[0m \u001b[43m    \u001b[49m\u001b[43mensure_min_samples\u001b[49m\u001b[38;5;241;43m=\u001b[39;49m\u001b[43mensure_min_samples\u001b[49m\u001b[43m,\u001b[49m\n\u001b[0;32m    975\u001b[0m \u001b[43m    \u001b[49m\u001b[43mensure_min_features\u001b[49m\u001b[38;5;241;43m=\u001b[39;49m\u001b[43mensure_min_features\u001b[49m\u001b[43m,\u001b[49m\n\u001b[0;32m    976\u001b[0m \u001b[43m    \u001b[49m\u001b[43mestimator\u001b[49m\u001b[38;5;241;43m=\u001b[39;49m\u001b[43mestimator\u001b[49m\u001b[43m,\u001b[49m\n\u001b[0;32m    977\u001b[0m \u001b[43m\u001b[49m\u001b[43m)\u001b[49m\n\u001b[0;32m    979\u001b[0m y \u001b[38;5;241m=\u001b[39m _check_y(y, multi_output\u001b[38;5;241m=\u001b[39mmulti_output, y_numeric\u001b[38;5;241m=\u001b[39my_numeric)\n\u001b[0;32m    981\u001b[0m check_consistent_length(X, y)\n",
      "File \u001b[1;32m~\\anaconda3\\lib\\site-packages\\sklearn\\utils\\validation.py:800\u001b[0m, in \u001b[0;36mcheck_array\u001b[1;34m(array, accept_sparse, accept_large_sparse, dtype, order, copy, force_all_finite, ensure_2d, allow_nd, ensure_min_samples, ensure_min_features, estimator)\u001b[0m\n\u001b[0;32m    794\u001b[0m         \u001b[38;5;28;01mraise\u001b[39;00m \u001b[38;5;167;01mValueError\u001b[39;00m(\n\u001b[0;32m    795\u001b[0m             \u001b[38;5;124m\"\u001b[39m\u001b[38;5;124mFound array with dim \u001b[39m\u001b[38;5;132;01m%d\u001b[39;00m\u001b[38;5;124m. \u001b[39m\u001b[38;5;132;01m%s\u001b[39;00m\u001b[38;5;124m expected <= 2.\u001b[39m\u001b[38;5;124m\"\u001b[39m\n\u001b[0;32m    796\u001b[0m             \u001b[38;5;241m%\u001b[39m (array\u001b[38;5;241m.\u001b[39mndim, estimator_name)\n\u001b[0;32m    797\u001b[0m         )\n\u001b[0;32m    799\u001b[0m     \u001b[38;5;28;01mif\u001b[39;00m force_all_finite:\n\u001b[1;32m--> 800\u001b[0m         \u001b[43m_assert_all_finite\u001b[49m\u001b[43m(\u001b[49m\u001b[43marray\u001b[49m\u001b[43m,\u001b[49m\u001b[43m \u001b[49m\u001b[43mallow_nan\u001b[49m\u001b[38;5;241;43m=\u001b[39;49m\u001b[43mforce_all_finite\u001b[49m\u001b[43m \u001b[49m\u001b[38;5;241;43m==\u001b[39;49m\u001b[43m \u001b[49m\u001b[38;5;124;43m\"\u001b[39;49m\u001b[38;5;124;43mallow-nan\u001b[39;49m\u001b[38;5;124;43m\"\u001b[39;49m\u001b[43m)\u001b[49m\n\u001b[0;32m    802\u001b[0m \u001b[38;5;28;01mif\u001b[39;00m ensure_min_samples \u001b[38;5;241m>\u001b[39m \u001b[38;5;241m0\u001b[39m:\n\u001b[0;32m    803\u001b[0m     n_samples \u001b[38;5;241m=\u001b[39m _num_samples(array)\n",
      "File \u001b[1;32m~\\anaconda3\\lib\\site-packages\\sklearn\\utils\\validation.py:114\u001b[0m, in \u001b[0;36m_assert_all_finite\u001b[1;34m(X, allow_nan, msg_dtype)\u001b[0m\n\u001b[0;32m    107\u001b[0m     \u001b[38;5;28;01mif\u001b[39;00m (\n\u001b[0;32m    108\u001b[0m         allow_nan\n\u001b[0;32m    109\u001b[0m         \u001b[38;5;129;01mand\u001b[39;00m np\u001b[38;5;241m.\u001b[39misinf(X)\u001b[38;5;241m.\u001b[39many()\n\u001b[0;32m    110\u001b[0m         \u001b[38;5;129;01mor\u001b[39;00m \u001b[38;5;129;01mnot\u001b[39;00m allow_nan\n\u001b[0;32m    111\u001b[0m         \u001b[38;5;129;01mand\u001b[39;00m \u001b[38;5;129;01mnot\u001b[39;00m np\u001b[38;5;241m.\u001b[39misfinite(X)\u001b[38;5;241m.\u001b[39mall()\n\u001b[0;32m    112\u001b[0m     ):\n\u001b[0;32m    113\u001b[0m         type_err \u001b[38;5;241m=\u001b[39m \u001b[38;5;124m\"\u001b[39m\u001b[38;5;124minfinity\u001b[39m\u001b[38;5;124m\"\u001b[39m \u001b[38;5;28;01mif\u001b[39;00m allow_nan \u001b[38;5;28;01melse\u001b[39;00m \u001b[38;5;124m\"\u001b[39m\u001b[38;5;124mNaN, infinity\u001b[39m\u001b[38;5;124m\"\u001b[39m\n\u001b[1;32m--> 114\u001b[0m         \u001b[38;5;28;01mraise\u001b[39;00m \u001b[38;5;167;01mValueError\u001b[39;00m(\n\u001b[0;32m    115\u001b[0m             msg_err\u001b[38;5;241m.\u001b[39mformat(\n\u001b[0;32m    116\u001b[0m                 type_err, msg_dtype \u001b[38;5;28;01mif\u001b[39;00m msg_dtype \u001b[38;5;129;01mis\u001b[39;00m \u001b[38;5;129;01mnot\u001b[39;00m \u001b[38;5;28;01mNone\u001b[39;00m \u001b[38;5;28;01melse\u001b[39;00m X\u001b[38;5;241m.\u001b[39mdtype\n\u001b[0;32m    117\u001b[0m             )\n\u001b[0;32m    118\u001b[0m         )\n\u001b[0;32m    119\u001b[0m \u001b[38;5;66;03m# for object dtype data, we only check for NaNs (GH-13254)\u001b[39;00m\n\u001b[0;32m    120\u001b[0m \u001b[38;5;28;01melif\u001b[39;00m X\u001b[38;5;241m.\u001b[39mdtype \u001b[38;5;241m==\u001b[39m np\u001b[38;5;241m.\u001b[39mdtype(\u001b[38;5;124m\"\u001b[39m\u001b[38;5;124mobject\u001b[39m\u001b[38;5;124m\"\u001b[39m) \u001b[38;5;129;01mand\u001b[39;00m \u001b[38;5;129;01mnot\u001b[39;00m allow_nan:\n",
      "\u001b[1;31mValueError\u001b[0m: Input contains NaN, infinity or a value too large for dtype('float64')."
     ]
    }
   ],
   "source": [
    "column_transformer = ColumnTransformer([\n",
    "    ('ohe', OneHotEncoder(handle_unknown=\"ignore\"), cat_cols),\n",
    "    ('scaling', StandardScaler(), num_cols)\n",
    "])\n",
    "\n",
    "pipeline = Pipeline(steps=[\n",
    "    ('ohe_and_scaling', column_transformer),\n",
    "    ('logistic', LogisticRegression())\n",
    "])\n",
    "\n",
    "param_grid = {\n",
    "    \"logistic__C\": np.logspace(-4, 4, 20)\n",
    "}\n",
    "\n",
    "searcher = GridSearchCV(pipeline, param_grid,\n",
    "                        scoring=\"roc_auc\", cv=5, n_jobs=2)\n",
    "searcher.fit(X_train, y_train)\n",
    "\n",
    "best_alpha = searcher.best_params_['logistic__C']"
   ]
  },
  {
   "cell_type": "code",
   "execution_count": 28,
   "metadata": {},
   "outputs": [
    {
     "data": {
      "text/plain": [
       "1.0526315789473684"
      ]
     },
     "execution_count": 28,
     "metadata": {},
     "output_type": "execute_result"
    }
   ],
   "source": [
    "best_alpha "
   ]
  },
  {
   "cell_type": "code",
   "execution_count": null,
   "metadata": {},
   "outputs": [],
   "source": [
    "column_transformer = ColumnTransformer([\n",
    "    ('ohe', OneHotEncoder(handle_unknown=\"ignore\"), cat_cols),\n",
    "    ('scaling', StandardScaler(), num_cols)\n",
    "])\n",
    "\n",
    "pipeline = Pipeline(steps=[\n",
    "    ('ohe_and_scaling', column_transformer),\n",
    "    ('model', LogisticRegression(C = best_alpha))\n",
    "])\n",
    "\n",
    "\n",
    "model = pipeline.fit(X_train, y_train)\n",
    "y_pred = model.predict(X_test)\n",
    "print(\"AUC-ROC = %.4f\" % roc_auc_score(y_test, y_pred))"
   ]
  },
  {
   "cell_type": "markdown",
   "metadata": {
    "id": "uVahy6JKEEZQ"
   },
   "source": [
    "Выпишите какое лучшее качество и с какими параметрами вам удалось получить"
   ]
  },
  {
   "cell_type": "markdown",
   "metadata": {
    "id": "36729TOQEEZR"
   },
   "source": [
    "Лучшее качество значения гиперпараметра С приведено выше (переменная best_alpha = 1.62), AUC-ROC = 0.74, при попытке вручную подставить другие значения метрика качества не улучшалась    "
   ]
  },
  {
   "cell_type": "markdown",
   "metadata": {
    "id": "BlTeVy7fEEZR"
   },
   "source": [
    "## Применение градиентного бустинга (2 балла)\n",
    "\n",
    "Если вы хотите получить баллы за точный ответ, то стоит попробовать градиентный бустинг. Часто градиентный бустинг с параметрами по умолчанию даст вам 80% результата за 0% усилий.\n",
    "\n",
    "Мы будем использовать catboost, поэтому нам не надо кодировать категориальные признаки. Catboost сделает это сам (в .fit() надо передать cat_features=cat_cols). А численные признаки нормировать для моделей, основанных на деревьях не нужно.\n",
    "\n",
    "1) Разделите выборку на train/valid. Протестируйте catboost cо стандартными параметрами.\n",
    "\n",
    "2) Протестируйте разные занчения параметроа количества деревьев и learning_rate'а и выберите лучшую по метрике ROC-AUC комбинацию. \n",
    "\n",
    "(Дополнительно) Есть некоторые сложности с тем, чтобы использовать CatBoostClassifier вместе с GridSearchCV, поэтому мы не просим использовать кроссвалидацию. Но можете попробовать)"
   ]
  },
  {
   "cell_type": "code",
   "execution_count": 48,
   "metadata": {
    "id": "Fioxxlp-EEZS"
   },
   "outputs": [
    {
     "name": "stdout",
     "output_type": "stream",
     "text": [
      "Learning rate set to 0.081125\n",
      "0:\tlearn: 0.6492047\ttotal: 171ms\tremaining: 34s\n",
      "1:\tlearn: 0.6053036\ttotal: 189ms\tremaining: 18.7s\n",
      "2:\tlearn: 0.5715086\ttotal: 208ms\tremaining: 13.7s\n",
      "3:\tlearn: 0.5512797\ttotal: 218ms\tremaining: 10.7s\n",
      "4:\tlearn: 0.5302610\ttotal: 235ms\tremaining: 9.15s\n",
      "5:\tlearn: 0.5121817\ttotal: 246ms\tremaining: 7.95s\n",
      "6:\tlearn: 0.4970361\ttotal: 263ms\tremaining: 7.26s\n",
      "7:\tlearn: 0.4861136\ttotal: 272ms\tremaining: 6.52s\n",
      "8:\tlearn: 0.4749020\ttotal: 288ms\tremaining: 6.11s\n",
      "9:\tlearn: 0.4661102\ttotal: 304ms\tremaining: 5.78s\n",
      "10:\tlearn: 0.4574959\ttotal: 322ms\tremaining: 5.53s\n",
      "11:\tlearn: 0.4505367\ttotal: 339ms\tremaining: 5.31s\n",
      "12:\tlearn: 0.4429832\ttotal: 356ms\tremaining: 5.12s\n",
      "13:\tlearn: 0.4392348\ttotal: 375ms\tremaining: 4.99s\n",
      "14:\tlearn: 0.4348710\ttotal: 391ms\tremaining: 4.82s\n",
      "15:\tlearn: 0.4304145\ttotal: 407ms\tremaining: 4.67s\n",
      "16:\tlearn: 0.4279410\ttotal: 418ms\tremaining: 4.5s\n",
      "17:\tlearn: 0.4249151\ttotal: 436ms\tremaining: 4.41s\n",
      "18:\tlearn: 0.4225928\ttotal: 452ms\tremaining: 4.3s\n",
      "19:\tlearn: 0.4198922\ttotal: 468ms\tremaining: 4.21s\n",
      "20:\tlearn: 0.4173459\ttotal: 484ms\tremaining: 4.12s\n",
      "21:\tlearn: 0.4151052\ttotal: 498ms\tremaining: 4.03s\n",
      "22:\tlearn: 0.4131704\ttotal: 514ms\tremaining: 3.95s\n",
      "23:\tlearn: 0.4114837\ttotal: 530ms\tremaining: 3.89s\n",
      "24:\tlearn: 0.4100811\ttotal: 545ms\tremaining: 3.82s\n",
      "25:\tlearn: 0.4084348\ttotal: 561ms\tremaining: 3.75s\n",
      "26:\tlearn: 0.4071971\ttotal: 577ms\tremaining: 3.7s\n",
      "27:\tlearn: 0.4058424\ttotal: 596ms\tremaining: 3.66s\n",
      "28:\tlearn: 0.4056608\ttotal: 607ms\tremaining: 3.58s\n",
      "29:\tlearn: 0.4049235\ttotal: 624ms\tremaining: 3.54s\n",
      "30:\tlearn: 0.4045974\ttotal: 639ms\tremaining: 3.48s\n",
      "31:\tlearn: 0.4038252\ttotal: 654ms\tremaining: 3.43s\n",
      "32:\tlearn: 0.4032373\ttotal: 665ms\tremaining: 3.36s\n",
      "33:\tlearn: 0.4027449\ttotal: 680ms\tremaining: 3.32s\n",
      "34:\tlearn: 0.4014434\ttotal: 696ms\tremaining: 3.28s\n",
      "35:\tlearn: 0.4004669\ttotal: 711ms\tremaining: 3.24s\n",
      "36:\tlearn: 0.3994457\ttotal: 727ms\tremaining: 3.2s\n",
      "37:\tlearn: 0.3993139\ttotal: 733ms\tremaining: 3.13s\n",
      "38:\tlearn: 0.3988478\ttotal: 745ms\tremaining: 3.08s\n",
      "39:\tlearn: 0.3983307\ttotal: 758ms\tremaining: 3.03s\n",
      "40:\tlearn: 0.3975704\ttotal: 773ms\tremaining: 3s\n",
      "41:\tlearn: 0.3974397\ttotal: 782ms\tremaining: 2.94s\n",
      "42:\tlearn: 0.3969169\ttotal: 801ms\tremaining: 2.92s\n",
      "43:\tlearn: 0.3967563\ttotal: 811ms\tremaining: 2.87s\n",
      "44:\tlearn: 0.3961941\ttotal: 830ms\tremaining: 2.86s\n",
      "45:\tlearn: 0.3956426\ttotal: 845ms\tremaining: 2.83s\n",
      "46:\tlearn: 0.3944304\ttotal: 861ms\tremaining: 2.8s\n",
      "47:\tlearn: 0.3941706\ttotal: 870ms\tremaining: 2.75s\n",
      "48:\tlearn: 0.3929509\ttotal: 885ms\tremaining: 2.73s\n",
      "49:\tlearn: 0.3920940\ttotal: 901ms\tremaining: 2.7s\n",
      "50:\tlearn: 0.3917487\ttotal: 917ms\tremaining: 2.68s\n",
      "51:\tlearn: 0.3907205\ttotal: 933ms\tremaining: 2.65s\n",
      "52:\tlearn: 0.3903913\ttotal: 949ms\tremaining: 2.63s\n",
      "53:\tlearn: 0.3892611\ttotal: 963ms\tremaining: 2.6s\n",
      "54:\tlearn: 0.3891967\ttotal: 973ms\tremaining: 2.56s\n",
      "55:\tlearn: 0.3885696\ttotal: 988ms\tremaining: 2.54s\n",
      "56:\tlearn: 0.3882425\ttotal: 1.01s\tremaining: 2.53s\n",
      "57:\tlearn: 0.3875406\ttotal: 1.03s\tremaining: 2.52s\n",
      "58:\tlearn: 0.3874652\ttotal: 1.04s\tremaining: 2.49s\n",
      "59:\tlearn: 0.3870968\ttotal: 1.06s\tremaining: 2.48s\n",
      "60:\tlearn: 0.3869743\ttotal: 1.07s\tremaining: 2.45s\n",
      "61:\tlearn: 0.3862646\ttotal: 1.09s\tremaining: 2.43s\n",
      "62:\tlearn: 0.3859265\ttotal: 1.11s\tremaining: 2.41s\n",
      "63:\tlearn: 0.3856504\ttotal: 1.13s\tremaining: 2.39s\n",
      "64:\tlearn: 0.3855864\ttotal: 1.14s\tremaining: 2.37s\n",
      "65:\tlearn: 0.3855054\ttotal: 1.15s\tremaining: 2.34s\n",
      "66:\tlearn: 0.3849999\ttotal: 1.17s\tremaining: 2.32s\n",
      "67:\tlearn: 0.3843273\ttotal: 1.19s\tremaining: 2.31s\n",
      "68:\tlearn: 0.3842680\ttotal: 1.21s\tremaining: 2.29s\n",
      "69:\tlearn: 0.3840867\ttotal: 1.23s\tremaining: 2.28s\n",
      "70:\tlearn: 0.3837236\ttotal: 1.25s\tremaining: 2.27s\n",
      "71:\tlearn: 0.3836389\ttotal: 1.26s\tremaining: 2.25s\n",
      "72:\tlearn: 0.3833395\ttotal: 1.28s\tremaining: 2.23s\n",
      "73:\tlearn: 0.3833394\ttotal: 1.29s\tremaining: 2.19s\n",
      "74:\tlearn: 0.3831140\ttotal: 1.31s\tremaining: 2.18s\n",
      "75:\tlearn: 0.3831140\ttotal: 1.31s\tremaining: 2.14s\n",
      "76:\tlearn: 0.3831006\ttotal: 1.32s\tremaining: 2.11s\n",
      "77:\tlearn: 0.3829825\ttotal: 1.33s\tremaining: 2.09s\n",
      "78:\tlearn: 0.3827499\ttotal: 1.35s\tremaining: 2.07s\n",
      "79:\tlearn: 0.3826572\ttotal: 1.37s\tremaining: 2.05s\n",
      "80:\tlearn: 0.3826362\ttotal: 1.38s\tremaining: 2.03s\n",
      "81:\tlearn: 0.3825755\ttotal: 1.39s\tremaining: 2s\n",
      "82:\tlearn: 0.3824546\ttotal: 1.4s\tremaining: 1.97s\n",
      "83:\tlearn: 0.3820514\ttotal: 1.43s\tremaining: 1.98s\n",
      "84:\tlearn: 0.3819007\ttotal: 1.45s\tremaining: 1.96s\n",
      "85:\tlearn: 0.3813912\ttotal: 1.47s\tremaining: 1.94s\n",
      "86:\tlearn: 0.3810119\ttotal: 1.48s\tremaining: 1.93s\n",
      "87:\tlearn: 0.3803828\ttotal: 1.5s\tremaining: 1.91s\n",
      "88:\tlearn: 0.3802218\ttotal: 1.51s\tremaining: 1.89s\n",
      "89:\tlearn: 0.3798660\ttotal: 1.53s\tremaining: 1.87s\n",
      "90:\tlearn: 0.3794186\ttotal: 1.55s\tremaining: 1.86s\n",
      "91:\tlearn: 0.3787621\ttotal: 1.57s\tremaining: 1.84s\n",
      "92:\tlearn: 0.3780594\ttotal: 1.58s\tremaining: 1.82s\n",
      "93:\tlearn: 0.3773050\ttotal: 1.6s\tremaining: 1.81s\n",
      "94:\tlearn: 0.3771415\ttotal: 1.61s\tremaining: 1.78s\n",
      "95:\tlearn: 0.3767191\ttotal: 1.63s\tremaining: 1.77s\n",
      "96:\tlearn: 0.3761369\ttotal: 1.65s\tremaining: 1.75s\n",
      "97:\tlearn: 0.3757602\ttotal: 1.67s\tremaining: 1.74s\n",
      "98:\tlearn: 0.3753582\ttotal: 1.69s\tremaining: 1.72s\n",
      "99:\tlearn: 0.3749141\ttotal: 1.7s\tremaining: 1.7s\n",
      "100:\tlearn: 0.3747161\ttotal: 1.72s\tremaining: 1.69s\n",
      "101:\tlearn: 0.3742480\ttotal: 1.74s\tremaining: 1.67s\n",
      "102:\tlearn: 0.3736694\ttotal: 1.75s\tremaining: 1.65s\n",
      "103:\tlearn: 0.3735798\ttotal: 1.77s\tremaining: 1.63s\n",
      "104:\tlearn: 0.3730682\ttotal: 1.78s\tremaining: 1.61s\n",
      "105:\tlearn: 0.3729209\ttotal: 1.8s\tremaining: 1.59s\n",
      "106:\tlearn: 0.3725723\ttotal: 1.81s\tremaining: 1.57s\n",
      "107:\tlearn: 0.3723760\ttotal: 1.83s\tremaining: 1.56s\n",
      "108:\tlearn: 0.3712328\ttotal: 1.85s\tremaining: 1.54s\n",
      "109:\tlearn: 0.3705939\ttotal: 1.86s\tremaining: 1.53s\n",
      "110:\tlearn: 0.3702859\ttotal: 1.88s\tremaining: 1.51s\n",
      "111:\tlearn: 0.3699883\ttotal: 1.9s\tremaining: 1.49s\n",
      "112:\tlearn: 0.3695939\ttotal: 1.91s\tremaining: 1.47s\n",
      "113:\tlearn: 0.3690004\ttotal: 1.93s\tremaining: 1.46s\n",
      "114:\tlearn: 0.3684719\ttotal: 1.95s\tremaining: 1.44s\n",
      "115:\tlearn: 0.3681991\ttotal: 1.97s\tremaining: 1.43s\n",
      "116:\tlearn: 0.3676721\ttotal: 2s\tremaining: 1.42s\n",
      "117:\tlearn: 0.3673968\ttotal: 2.02s\tremaining: 1.41s\n",
      "118:\tlearn: 0.3671548\ttotal: 2.05s\tremaining: 1.39s\n",
      "119:\tlearn: 0.3670305\ttotal: 2.07s\tremaining: 1.38s\n",
      "120:\tlearn: 0.3665814\ttotal: 2.1s\tremaining: 1.37s\n",
      "121:\tlearn: 0.3662245\ttotal: 2.12s\tremaining: 1.35s\n",
      "122:\tlearn: 0.3652485\ttotal: 2.14s\tremaining: 1.34s\n",
      "123:\tlearn: 0.3645377\ttotal: 2.16s\tremaining: 1.32s\n",
      "124:\tlearn: 0.3641097\ttotal: 2.18s\tremaining: 1.31s\n",
      "125:\tlearn: 0.3638315\ttotal: 2.2s\tremaining: 1.29s\n",
      "126:\tlearn: 0.3636665\ttotal: 2.22s\tremaining: 1.27s\n",
      "127:\tlearn: 0.3632323\ttotal: 2.23s\tremaining: 1.26s\n",
      "128:\tlearn: 0.3627277\ttotal: 2.25s\tremaining: 1.24s\n",
      "129:\tlearn: 0.3620394\ttotal: 2.27s\tremaining: 1.22s\n",
      "130:\tlearn: 0.3611690\ttotal: 2.28s\tremaining: 1.2s\n",
      "131:\tlearn: 0.3609478\ttotal: 2.3s\tremaining: 1.18s\n",
      "132:\tlearn: 0.3606079\ttotal: 2.32s\tremaining: 1.17s\n",
      "133:\tlearn: 0.3604454\ttotal: 2.33s\tremaining: 1.15s\n",
      "134:\tlearn: 0.3598391\ttotal: 2.35s\tremaining: 1.13s\n",
      "135:\tlearn: 0.3597404\ttotal: 2.36s\tremaining: 1.11s\n",
      "136:\tlearn: 0.3593336\ttotal: 2.38s\tremaining: 1.09s\n",
      "137:\tlearn: 0.3585398\ttotal: 2.4s\tremaining: 1.08s\n",
      "138:\tlearn: 0.3580578\ttotal: 2.41s\tremaining: 1.06s\n",
      "139:\tlearn: 0.3577407\ttotal: 2.43s\tremaining: 1.04s\n",
      "140:\tlearn: 0.3570805\ttotal: 2.44s\tremaining: 1.02s\n",
      "141:\tlearn: 0.3568990\ttotal: 2.46s\tremaining: 1s\n",
      "142:\tlearn: 0.3564981\ttotal: 2.48s\tremaining: 988ms\n",
      "143:\tlearn: 0.3563664\ttotal: 2.5s\tremaining: 972ms\n",
      "144:\tlearn: 0.3559325\ttotal: 2.52s\tremaining: 956ms\n",
      "145:\tlearn: 0.3554521\ttotal: 2.54s\tremaining: 940ms\n",
      "146:\tlearn: 0.3550700\ttotal: 2.56s\tremaining: 925ms\n",
      "147:\tlearn: 0.3547827\ttotal: 2.59s\tremaining: 909ms\n",
      "148:\tlearn: 0.3541996\ttotal: 2.61s\tremaining: 893ms\n",
      "149:\tlearn: 0.3535081\ttotal: 2.63s\tremaining: 877ms\n",
      "150:\tlearn: 0.3529536\ttotal: 2.66s\tremaining: 862ms\n",
      "151:\tlearn: 0.3524149\ttotal: 2.68s\tremaining: 847ms\n",
      "152:\tlearn: 0.3520574\ttotal: 2.7s\tremaining: 830ms\n",
      "153:\tlearn: 0.3517019\ttotal: 2.72s\tremaining: 813ms\n",
      "154:\tlearn: 0.3513222\ttotal: 2.74s\tremaining: 794ms\n",
      "155:\tlearn: 0.3511333\ttotal: 2.75s\tremaining: 776ms\n",
      "156:\tlearn: 0.3506096\ttotal: 2.77s\tremaining: 758ms\n",
      "157:\tlearn: 0.3503062\ttotal: 2.78s\tremaining: 740ms\n",
      "158:\tlearn: 0.3498553\ttotal: 2.8s\tremaining: 722ms\n",
      "159:\tlearn: 0.3493267\ttotal: 2.81s\tremaining: 704ms\n",
      "160:\tlearn: 0.3487752\ttotal: 2.83s\tremaining: 685ms\n",
      "161:\tlearn: 0.3482041\ttotal: 2.85s\tremaining: 667ms\n",
      "162:\tlearn: 0.3478756\ttotal: 2.86s\tremaining: 649ms\n",
      "163:\tlearn: 0.3474642\ttotal: 2.88s\tremaining: 632ms\n",
      "164:\tlearn: 0.3471481\ttotal: 2.89s\tremaining: 614ms\n"
     ]
    },
    {
     "name": "stdout",
     "output_type": "stream",
     "text": [
      "165:\tlearn: 0.3468681\ttotal: 2.92s\tremaining: 597ms\n",
      "166:\tlearn: 0.3466122\ttotal: 2.93s\tremaining: 580ms\n",
      "167:\tlearn: 0.3462899\ttotal: 2.95s\tremaining: 562ms\n",
      "168:\tlearn: 0.3457617\ttotal: 2.96s\tremaining: 544ms\n",
      "169:\tlearn: 0.3454415\ttotal: 2.98s\tremaining: 526ms\n",
      "170:\tlearn: 0.3450018\ttotal: 3s\tremaining: 508ms\n",
      "171:\tlearn: 0.3448793\ttotal: 3.01s\tremaining: 491ms\n",
      "172:\tlearn: 0.3446133\ttotal: 3.03s\tremaining: 473ms\n",
      "173:\tlearn: 0.3443225\ttotal: 3.05s\tremaining: 455ms\n",
      "174:\tlearn: 0.3436590\ttotal: 3.06s\tremaining: 437ms\n",
      "175:\tlearn: 0.3432497\ttotal: 3.08s\tremaining: 420ms\n",
      "176:\tlearn: 0.3429484\ttotal: 3.09s\tremaining: 402ms\n",
      "177:\tlearn: 0.3426861\ttotal: 3.11s\tremaining: 384ms\n",
      "178:\tlearn: 0.3422556\ttotal: 3.13s\tremaining: 367ms\n",
      "179:\tlearn: 0.3420479\ttotal: 3.15s\tremaining: 350ms\n",
      "180:\tlearn: 0.3415846\ttotal: 3.16s\tremaining: 332ms\n",
      "181:\tlearn: 0.3410637\ttotal: 3.18s\tremaining: 314ms\n",
      "182:\tlearn: 0.3407993\ttotal: 3.19s\tremaining: 297ms\n",
      "183:\tlearn: 0.3405729\ttotal: 3.21s\tremaining: 279ms\n",
      "184:\tlearn: 0.3402489\ttotal: 3.23s\tremaining: 262ms\n",
      "185:\tlearn: 0.3399989\ttotal: 3.24s\tremaining: 244ms\n",
      "186:\tlearn: 0.3395626\ttotal: 3.26s\tremaining: 226ms\n",
      "187:\tlearn: 0.3391697\ttotal: 3.27s\tremaining: 209ms\n",
      "188:\tlearn: 0.3388729\ttotal: 3.29s\tremaining: 191ms\n",
      "189:\tlearn: 0.3382259\ttotal: 3.3s\tremaining: 174ms\n",
      "190:\tlearn: 0.3379433\ttotal: 3.32s\tremaining: 156ms\n",
      "191:\tlearn: 0.3376244\ttotal: 3.34s\tremaining: 139ms\n",
      "192:\tlearn: 0.3372396\ttotal: 3.35s\tremaining: 122ms\n",
      "193:\tlearn: 0.3365240\ttotal: 3.37s\tremaining: 104ms\n",
      "194:\tlearn: 0.3363105\ttotal: 3.38s\tremaining: 86.8ms\n",
      "195:\tlearn: 0.3358005\ttotal: 3.4s\tremaining: 69.4ms\n",
      "196:\tlearn: 0.3356582\ttotal: 3.42s\tremaining: 52ms\n",
      "197:\tlearn: 0.3354772\ttotal: 3.43s\tremaining: 34.7ms\n",
      "198:\tlearn: 0.3350570\ttotal: 3.45s\tremaining: 17.3ms\n",
      "199:\tlearn: 0.3348916\ttotal: 3.46s\tremaining: 0us\n",
      "Auc-ROC = 0.8521\n"
     ]
    }
   ],
   "source": [
    "from catboost import CatBoostClassifier, Pool\n",
    "\n",
    "boost_model = CatBoostClassifier(n_estimators=200, cat_features=cat_cols)\n",
    "boost_model.fit(X_train, y_train)\n",
    "y_train_pred = boost_model.predict_proba(X_train)[:, 1]\n",
    "y_test_pred = boost_model.predict_proba(X_test)[:, 1]\n",
    "print(\"Auc-ROC = %.4f\" % roc_auc_score(y_test, y_test_pred))"
   ]
  },
  {
   "cell_type": "code",
   "execution_count": 49,
   "metadata": {
    "scrolled": false
   },
   "outputs": [
    {
     "name": "stdout",
     "output_type": "stream",
     "text": [
      "\n",
      "bestTest = 0.4159328534\n",
      "bestIteration = 33\n",
      "\n",
      "0:\tloss: 0.4159329\tbest: 0.4159329 (0)\ttotal: 979ms\tremaining: 10.8s\n",
      "\n",
      "bestTest = 0.4177069907\n",
      "bestIteration = 20\n",
      "\n",
      "1:\tloss: 0.4177070\tbest: 0.4159329 (0)\ttotal: 2.01s\tremaining: 10.1s\n",
      "\n",
      "bestTest = 0.4159328534\n",
      "bestIteration = 33\n",
      "\n",
      "2:\tloss: 0.4159329\tbest: 0.4159329 (0)\ttotal: 3.38s\tremaining: 10.1s\n",
      "\n",
      "bestTest = 0.4177069907\n",
      "bestIteration = 20\n",
      "\n",
      "3:\tloss: 0.4177070\tbest: 0.4159329 (0)\ttotal: 4.84s\tremaining: 9.67s\n",
      "\n",
      "bestTest = 0.4086406375\n",
      "bestIteration = 18\n",
      "\n",
      "4:\tloss: 0.4086406\tbest: 0.4086406 (4)\ttotal: 6.37s\tremaining: 8.91s\n",
      "\n",
      "bestTest = 0.4302986736\n",
      "bestIteration = 9\n",
      "\n",
      "5:\tloss: 0.4302987\tbest: 0.4086406 (4)\ttotal: 7.94s\tremaining: 7.94s\n",
      "\n",
      "bestTest = 0.4086406375\n",
      "bestIteration = 18\n",
      "\n",
      "6:\tloss: 0.4086406\tbest: 0.4086406 (4)\ttotal: 10.3s\tremaining: 7.33s\n",
      "\n",
      "bestTest = 0.4302986736\n",
      "bestIteration = 9\n",
      "\n",
      "7:\tloss: 0.4302987\tbest: 0.4086406 (4)\ttotal: 12.6s\tremaining: 6.29s\n",
      "\n",
      "bestTest = 0.4244907861\n",
      "bestIteration = 13\n",
      "\n",
      "8:\tloss: 0.4244908\tbest: 0.4086406 (4)\ttotal: 14.4s\tremaining: 4.81s\n",
      "\n",
      "bestTest = 0.4315039064\n",
      "bestIteration = 6\n",
      "\n",
      "9:\tloss: 0.4315039\tbest: 0.4086406 (4)\ttotal: 16.3s\tremaining: 3.27s\n",
      "\n",
      "bestTest = 0.4244907861\n",
      "bestIteration = 13\n",
      "\n",
      "10:\tloss: 0.4244908\tbest: 0.4086406 (4)\ttotal: 19.1s\tremaining: 1.74s\n",
      "\n",
      "bestTest = 0.4315039064\n",
      "bestIteration = 6\n",
      "\n",
      "11:\tloss: 0.4315039\tbest: 0.4086406 (4)\ttotal: 21.9s\tremaining: 0us\n",
      "Estimating final quality...\n",
      "Training on fold [0/3]\n",
      "\n",
      "bestTest = 0.4130659099\n",
      "bestIteration = 8\n",
      "\n",
      "Training on fold [1/3]\n",
      "\n",
      "bestTest = 0.4330250512\n",
      "bestIteration = 8\n",
      "\n",
      "Training on fold [2/3]\n",
      "\n",
      "bestTest = 0.4276332849\n",
      "bestIteration = 9\n",
      "\n"
     ]
    }
   ],
   "source": [
    " parameters = {'depth'         : [4,7,8],\n",
    "                'learning_rate' : [0.3,0.4],\n",
    "                'iterations'    : [100, 150]\n",
    "                 }\n",
    "    \n",
    "boost_model = CatBoostClassifier(cat_features=cat_cols, verbose= False)\n",
    "res = boost_model.grid_search(parameters, X_train, y_train)"
   ]
  },
  {
   "cell_type": "code",
   "execution_count": 55,
   "metadata": {},
   "outputs": [
    {
     "data": {
      "text/html": [
       "<div>\n",
       "<style scoped>\n",
       "    .dataframe tbody tr th:only-of-type {\n",
       "        vertical-align: middle;\n",
       "    }\n",
       "\n",
       "    .dataframe tbody tr th {\n",
       "        vertical-align: top;\n",
       "    }\n",
       "\n",
       "    .dataframe thead th {\n",
       "        text-align: right;\n",
       "    }\n",
       "</style>\n",
       "<table border=\"1\" class=\"dataframe\">\n",
       "  <thead>\n",
       "    <tr style=\"text-align: right;\">\n",
       "      <th></th>\n",
       "      <th>ROC-AUC on train</th>\n",
       "      <th>ROC-AUC on test</th>\n",
       "      <th>Best params</th>\n",
       "    </tr>\n",
       "  </thead>\n",
       "  <tbody>\n",
       "    <tr>\n",
       "      <th>0</th>\n",
       "      <td>0.89235</td>\n",
       "      <td>0.844804</td>\n",
       "      <td>{'depth': 7, 'iterations': 100, 'learning_rate...</td>\n",
       "    </tr>\n",
       "  </tbody>\n",
       "</table>\n",
       "</div>"
      ],
      "text/plain": [
       "   ROC-AUC on train  ROC-AUC on test  \\\n",
       "0           0.89235         0.844804   \n",
       "\n",
       "                                         Best params  \n",
       "0  {'depth': 7, 'iterations': 100, 'learning_rate...  "
      ]
     },
     "execution_count": 55,
     "metadata": {},
     "output_type": "execute_result"
    }
   ],
   "source": [
    "d = {'ROC-AUC on train': roc_auc_score(y_train, boost_model.predict_proba(X_train)[:, 1]),\n",
    "     'ROC-AUC on test': roc_auc_score(y_test, boost_model.predict_proba(X_test)[:, 1]),\n",
    "     'Best params': [res['params']],\n",
    "    }\n",
    "\n",
    "pd.DataFrame(d).head()"
   ]
  },
  {
   "cell_type": "code",
   "execution_count": 67,
   "metadata": {},
   "outputs": [
    {
     "data": {
      "text/plain": [
       "{'depth': 7, 'iterations': 100, 'learning_rate': 0.3}"
      ]
     },
     "execution_count": 67,
     "metadata": {},
     "output_type": "execute_result"
    }
   ],
   "source": [
    "res['params']"
   ]
  },
  {
   "cell_type": "markdown",
   "metadata": {
    "id": "rf4Kjt96EEZU"
   },
   "source": [
    "Выпишите, какое лучшее качество и с какими параметрами вам удалось получить"
   ]
  },
  {
   "cell_type": "markdown",
   "metadata": {
    "id": "d2d9GolXEEZV"
   },
   "source": [
    "Выше приведена табличка с лучшими показателями"
   ]
  },
  {
   "cell_type": "markdown",
   "metadata": {
    "id": "dDMXbvNZEEZV"
   },
   "source": [
    "# Предсказания"
   ]
  },
  {
   "cell_type": "code",
   "execution_count": 68,
   "metadata": {
    "id": "G_P4wFNaEEZW",
    "outputId": "1fba5dfc-88e4-49e3-ed8a-afe21ae3325a"
   },
   "outputs": [],
   "source": [
    "best_model = boost_model"
   ]
  },
  {
   "cell_type": "code",
   "execution_count": 5,
   "metadata": {
    "id": "FfSufx0CEEZZ"
   },
   "outputs": [],
   "source": [
    "X_test = pd.read_csv('./test.csv')\n",
    "submission = pd.read_csv('./submission.csv')\n",
    "\n",
    "submission['Churn'] = best_model.predict_proba(X_test)[:,1]\n",
    "submission.to_csv('./my_submission.csv', index=False)"
   ]
  },
  {
   "cell_type": "markdown",
   "metadata": {
    "id": "tzGirrp5l2I-"
   },
   "source": [
    "Лучшее решение отправьте в Stepik."
   ]
  },
  {
   "cell_type": "code",
   "execution_count": null,
   "metadata": {
    "id": "eoNce9Yu0OM5"
   },
   "outputs": [],
   "source": []
  }
 ],
 "metadata": {
  "colab": {
   "provenance": []
  },
  "kernelspec": {
   "display_name": "Python 3 (ipykernel)",
   "language": "python",
   "name": "python3"
  },
  "language_info": {
   "codemirror_mode": {
    "name": "ipython",
    "version": 3
   },
   "file_extension": ".py",
   "mimetype": "text/x-python",
   "name": "python",
   "nbconvert_exporter": "python",
   "pygments_lexer": "ipython3",
   "version": "3.9.12"
  }
 },
 "nbformat": 4,
 "nbformat_minor": 1
}
